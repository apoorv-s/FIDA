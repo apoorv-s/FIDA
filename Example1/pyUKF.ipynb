{
 "cells": [
  {
   "cell_type": "code",
   "execution_count": 1,
   "id": "6c9142c7",
   "metadata": {},
   "outputs": [],
   "source": [
    "import numpy as np\n",
    "import scipy.io\n",
    "from tqdm import tqdm\n",
    "import matplotlib.pyplot as plt\n",
    "import scipy.linalg"
   ]
  },
  {
   "cell_type": "code",
   "execution_count": 2,
   "id": "0e769048",
   "metadata": {},
   "outputs": [],
   "source": [
    "# def GetSigmaPointsByHand(stateEstimate, stateCov, alpha, beta, kappa):\n",
    "#     nStates = len(stateEstimate)\n",
    "#     nSigmaPoints = 2*nStates + 1\n",
    "    \n",
    "#     lmd = (alpha**2)*(nStates + kappa) - nStates\n",
    "#     sqrtMat = np.linalg.cholesky((lmd + nStates)*stateCov)\n",
    "    \n",
    "#     sigmaPoints = np.zeros((nStates, nSigmaPoints))\n",
    "#     sigmaWeightsMean = np.zeros(nSigmaPoints)\n",
    "#     sigmaWeightsCov = np.zeros(nSigmaPoints)\n",
    "    \n",
    "#     sigmaPoints[:, 0] = stateEstimate\n",
    "#     sigmaWeightsMean[0] = lmd/(nStates + lmd)\n",
    "#     sigmaWeightsCov[0] = (lmd/(nStates + lmd)) + (1 - (alpha**2) + beta)\n",
    "    \n",
    "#     for i in range(nStates):\n",
    "#         sigmaPoints[:, i + 1] = stateEstimate + sqrtMat[:, i]\n",
    "#         sigmaWeightsMean[i + 1] = 0.5/(nStates + lmd)\n",
    "#         sigmaWeightsCov[i + 1] = 0.5/(nStates + lmd)\n",
    "        \n",
    "#         sigmaPoints[:, i + nStates + 1] = stateEstimate - sqrtMat[:, i]\n",
    "#         sigmaWeightsMean[i + nStates + 1] = 0.5/(nStates + lmd)\n",
    "#         sigmaWeightsCov[i + nStates + 1] = 0.5/(nStates + lmd)\n",
    "    \n",
    "#     return sigmaPoints, sigmaWeightsMean, sigmaWeightsCov"
   ]
  },
  {
   "cell_type": "code",
   "execution_count": 3,
   "id": "0295ff64",
   "metadata": {},
   "outputs": [],
   "source": [
    "def GetSigmaPoints(stateEstimate, stateCov, alpha, beta, kappa):\n",
    "    nStates = len(stateEstimate)\n",
    "    nSigmaPoints = 2*nStates + 1\n",
    "    sigmaPointsMat = np.zeros((nStates, nSigmaPoints))\n",
    "    sigmaWeightsMean = np.zeros(nSigmaPoints)\n",
    "    sigmaWeightsCov = np.zeros(nSigmaPoints)\n",
    "    \n",
    "    lambdaForSigmaPoints = (alpha**2)*(nStates + kappa) - nStates\n",
    "    \n",
    "    # Numpy cholesky of the for A = L*L.T, so columns of L to be used, (Unscented Filtering and Nonlinear Estimation, Julier and Uhlmann, 2004)\n",
    "    sqrtStateCov = np.linalg.cholesky(stateCov*(nStates + lambdaForSigmaPoints))\n",
    "#     sqrtStateCov = scipy.linalg.sqrtm(stateCov*(nStates + lambdaForSigmaPoints))\n",
    "    \n",
    "    sigmaPointsMat[:, 0] = stateEstimate\n",
    "    sigmaWeightsMean[0] = lambdaForSigmaPoints/(nStates + lambdaForSigmaPoints)\n",
    "    sigmaWeightsCov[0] = (lambdaForSigmaPoints/(nStates + lambdaForSigmaPoints)) + (1 - (alpha**2) + beta)\n",
    "    \n",
    "    for i in range(nStates):\n",
    "        sigmaPointsMat[:, i + 1] = stateEstimate + sqrtStateCov[:, i]\n",
    "        sigmaWeightsMean[i + 1] = 1/(2*(nStates + lambdaForSigmaPoints))\n",
    "        sigmaWeightsCov[i + 1] = 1/(2*(nStates + lambdaForSigmaPoints))\n",
    "        \n",
    "        sigmaPointsMat[:, i + nStates + 1] = stateEstimate - sqrtStateCov[:, i]\n",
    "        sigmaWeightsMean[i + nStates + 1] = 1/(2*(nStates + lambdaForSigmaPoints))\n",
    "        sigmaWeightsCov[i + nStates + 1] = 1/(2*(nStates + lambdaForSigmaPoints))\n",
    "        \n",
    "    return sigmaPointsMat, sigmaWeightsMean, sigmaWeightsCov"
   ]
  },
  {
   "cell_type": "code",
   "execution_count": 4,
   "id": "050cbb22",
   "metadata": {},
   "outputs": [],
   "source": [
    "def GetWeightedEstimate(pointsMat, weights):\n",
    "    # pointsMat : nState x nPoints\n",
    "    weightedEstimate = np.zeros(pointsMat.shape[0])\n",
    "    for i in range(len(weights)):\n",
    "        weightedEstimate = weightedEstimate + weights[i]*pointsMat[:, i]\n",
    "    return weightedEstimate"
   ]
  },
  {
   "cell_type": "code",
   "execution_count": 5,
   "id": "7cb7b70d",
   "metadata": {},
   "outputs": [],
   "source": [
    "def GetWeightedCov(pointsMat, weightedEstimate, weights):\n",
    "    # pointsMat : len(weight) x nStates\n",
    "    weightedCov = np.zeros((weightedEstimate.size, weightedEstimate.size))\n",
    "    for i in range(len(weights)):\n",
    "        tempVec = (pointsMat[:, i] - weightedEstimate).reshape([-1, 1])\n",
    "        weightedCov = weightedCov + weights[i]*np.dot(tempVec, tempVec.T)\n",
    "    return weightedCov"
   ]
  },
  {
   "cell_type": "code",
   "execution_count": 6,
   "id": "0c2ea8f3",
   "metadata": {},
   "outputs": [],
   "source": [
    "def GetWeightedCrossCov(pointsMat1, weightedEstimate1, pointsMat2, weightedEstimate2, weights):\n",
    "    # pointsMat1,2 : len(weight) x nStates\n",
    "    weightedCrossCov = np.zeros((weightedEstimate1.size, weightedEstimate2.size))\n",
    "    for i in range(len(weights)):\n",
    "        yTemp1 = (pointsMat1[:, i] - weightedEstimate1).reshape([-1, 1])\n",
    "        yTemp2 = (pointsMat2[:, i] - weightedEstimate2).reshape([-1, 1])\n",
    "        weightedCrossCov = weightedCrossCov + weights[i]*np.dot(yTemp1, yTemp2.T)\n",
    "    return weightedCrossCov"
   ]
  },
  {
   "cell_type": "code",
   "execution_count": 7,
   "id": "c009fcfb",
   "metadata": {},
   "outputs": [],
   "source": [
    "def ForwardModel(sigmaPoint):\n",
    "    tempState = np.zeros(2)\n",
    "    tempState[0] = sigmaPoint[0] + sigmaPoint[2]\n",
    "    tempState[1] = sigmaPoint[1] + sigmaPoint[3]\n",
    "    return tempState"
   ]
  },
  {
   "cell_type": "code",
   "execution_count": 8,
   "id": "af5aa547",
   "metadata": {},
   "outputs": [],
   "source": [
    "def ObservationModel(state, time, obsNoise):\n",
    "    lmd = state[0]\n",
    "    uL = 2.0\n",
    "    uR = 1.0\n",
    "    xR = state[1]\n",
    "    \n",
    "    beta = 2.0/lmd\n",
    "    alpha = (uL - uR)/xR\n",
    "    tBreak = 1/(beta*alpha)\n",
    "\n",
    "    if(time < tBreak):\n",
    "        skPos = (beta*uL*time + xR + beta*uR*time)/2\n",
    "    else:\n",
    "        sigma = (uL + uR)/lmd\n",
    "        skPos = sigma*time + (xR/2)\n",
    "    return skPos + obsNoise\n",
    "    "
   ]
  },
  {
   "cell_type": "code",
   "execution_count": 9,
   "id": "4b5e0fdc",
   "metadata": {},
   "outputs": [],
   "source": [
    "nStates = 2 # lambda, xr\n",
    "nStateNoise = 2 # lambdaNoise, xrNoise\n",
    "nObs = 1 # ObservationNoise\n",
    "\n",
    "nTotalStates = nStates + nStateNoise + nObs"
   ]
  },
  {
   "cell_type": "code",
   "execution_count": 10,
   "id": "fe066e85",
   "metadata": {},
   "outputs": [],
   "source": [
    "nTSteps = 101\n",
    "tSteps = np.linspace(0, 5, nTSteps)\n",
    "\n",
    "obsNoiseCov = np.round(0.1**2, 4)\n",
    "\n",
    "estimatedState = np.zeros((nStates, nTSteps))\n",
    "estimatedCov = np.zeros((nStates, nStates, nTSteps))"
   ]
  },
  {
   "cell_type": "code",
   "execution_count": 11,
   "id": "31e71a6a",
   "metadata": {},
   "outputs": [],
   "source": [
    "estimatedState[:, 0] = [2.15, 0.85]\n",
    "\n",
    "estimatedCov[:, :, 0] = np.diag([0.02083, 0.02083])"
   ]
  },
  {
   "cell_type": "code",
   "execution_count": 12,
   "id": "13dd1e4d",
   "metadata": {},
   "outputs": [],
   "source": [
    "observationVec = scipy.io.loadmat(\"ex1_200_14-06-23_artificialDynamics_jackKnife.mat\")[\"obsShockPos\"][0]"
   ]
  },
  {
   "cell_type": "code",
   "execution_count": 13,
   "id": "ad038802",
   "metadata": {},
   "outputs": [],
   "source": [
    "alpha = 0.001\n",
    "beta = 2\n",
    "kappa = 0"
   ]
  },
  {
   "cell_type": "code",
   "execution_count": 14,
   "id": "e4abf80c",
   "metadata": {},
   "outputs": [],
   "source": [
    "estimatedObservationsVec = np.zeros(len(tSteps))"
   ]
  },
  {
   "cell_type": "code",
   "execution_count": 15,
   "id": "32aa481d",
   "metadata": {},
   "outputs": [
    {
     "name": "stderr",
     "output_type": "stream",
     "text": [
      "100%|██████████| 100/100 [00:00<00:00, 896.77it/s]\n"
     ]
    }
   ],
   "source": [
    "for it in tqdm(range(1, len(tSteps))):\n",
    "    tTemp = tSteps[it]\n",
    "\n",
    "    tempExtendedState = np.zeros(nTotalStates)\n",
    "    tempExtendedState[0:nStates] = estimatedState[:, it - 1]\n",
    "\n",
    "    tempExtendedCov = np.zeros((len(tempExtendedState), len(tempExtendedState)))\n",
    "    tempExtendedCov[0:nStates, 0:nStates] = estimatedCov[:, :, it - 1]\n",
    "    tempExtendedCov[nStates:nStates + nStateNoise, nStates:nStates + nStateNoise] = np.diag([0.0025, 0.0025])/it\n",
    "    tempExtendedCov[-1, -1] = obsNoiseCov\n",
    "\n",
    "    [sigmaPointsMat, sigmaWeightsMean,\n",
    "         sigmaWeightsCov] = GetSigmaPoints(tempExtendedState, tempExtendedCov, alpha, beta, kappa)\n",
    "\n",
    "    nSigmaPoints = len(sigmaWeightsMean)\n",
    "    forwardedState = np.zeros((nStates, nSigmaPoints))\n",
    "    forwardedObservations = np.zeros((nObs, nSigmaPoints))\n",
    "    for iSigma in range(len(sigmaWeightsMean)):\n",
    "            forwardedState[:, iSigma] = ForwardModel(sigmaPointsMat[:, iSigma])\n",
    "            forwardedObservations[:, iSigma] = ObservationModel(forwardedState[:, iSigma], tTemp,\n",
    "                                                                sigmaPointsMat[-1, iSigma])\n",
    "    forwardedStateEstimate = GetWeightedEstimate(forwardedState, sigmaWeightsMean)\n",
    "    forwardedStateCov = GetWeightedCov(forwardedState, forwardedStateEstimate, sigmaWeightsCov)\n",
    "\n",
    "    forwardedObsEstimate = GetWeightedEstimate(forwardedObservations, sigmaWeightsMean)\n",
    "    forwardedObsCov = GetWeightedCov(forwardedObservations, forwardedObsEstimate, sigmaWeightsCov)\n",
    "\n",
    "    forwardedStateObsCrossCov = GetWeightedCrossCov(forwardedState, forwardedStateEstimate,\n",
    "                                                    forwardedObservations, forwardedObsEstimate,\n",
    "                                                    sigmaWeightsCov)\n",
    "\n",
    "    kalmanGain = np.dot(forwardedStateObsCrossCov, np.linalg.inv(forwardedObsCov))\n",
    "    estimatedState[:, it] = forwardedStateEstimate + np.dot(kalmanGain, \n",
    "                                                            (observationVec[it] - forwardedObsEstimate))\n",
    "    estimatedCov[:, :, it] = forwardedStateCov - np.dot(kalmanGain,\n",
    "                                                        np.dot(forwardedObsCov, kalmanGain.T))\n",
    "    estimatedObservationsVec[it] = ObservationModel(estimatedState[:, it], tSteps[it], 0)"
   ]
  },
  {
   "cell_type": "code",
   "execution_count": 18,
   "id": "5fd8b037",
   "metadata": {},
   "outputs": [],
   "source": [
    "estimatedStateStd = np.zeros((nStates, len(tSteps)))\n",
    "estimatedStateStd[0, :] = np.sqrt(estimatedCov[0, 0, :])\n",
    "estimatedStateStd[1, :] = np.sqrt(estimatedCov[1, 1, :])"
   ]
  },
  {
   "cell_type": "code",
   "execution_count": 19,
   "id": "7e126ad8",
   "metadata": {},
   "outputs": [],
   "source": [
    "scipy.io.savemat(\"ex1UKFFromPy.mat\", dict(estimatedState = estimatedState, estimatedCov = estimatedCov,\n",
    "                                          tSteps = tSteps, estimatedStateStd = estimatedStateStd))"
   ]
  },
  {
   "cell_type": "code",
   "execution_count": 16,
   "id": "0209ada4",
   "metadata": {},
   "outputs": [
    {
     "data": {
      "text/plain": [
       "[<matplotlib.lines.Line2D at 0x7f7844a09090>]"
      ]
     },
     "execution_count": 16,
     "metadata": {},
     "output_type": "execute_result"
    },
    {
     "data": {
      "image/png": "[encoded data removed]",
      "text/plain": [
       "<Figure size 432x288 with 1 Axes>"
      ]
     },
     "metadata": {
      "needs_background": "light"
     },
     "output_type": "display_data"
    }
   ],
   "source": [
    "plt.plot(tSteps, estimatedState[1, :])"
   ]
  },
  {
   "cell_type": "code",
   "execution_count": 17,
   "id": "2664468e",
   "metadata": {},
   "outputs": [
    {
     "data": {
      "text/plain": [
       "[<matplotlib.lines.Line2D at 0x7f78449bcfd0>]"
      ]
     },
     "execution_count": 17,
     "metadata": {},
     "output_type": "execute_result"
    },
    {
     "data": {
      "image/png": "[encoded data removed]",
      "text/plain": [
       "<Figure size 432x288 with 1 Axes>"
      ]
     },
     "metadata": {
      "needs_background": "light"
     },
     "output_type": "display_data"
    }
   ],
   "source": [
    "plt.plot(tSteps, estimatedState[0, :])\n"
   ]
  },
  {
   "cell_type": "code",
   "execution_count": 112,
   "id": "b2968e50",
   "metadata": {},
   "outputs": [
    {
     "data": {
      "text/plain": [
       "[<matplotlib.lines.Line2D at 0x7fd773586510>]"
      ]
     },
     "execution_count": 112,
     "metadata": {},
     "output_type": "execute_result"
    },
    {
     "data": {
      "image/png": "[encoded data removed]",
      "text/plain": [
       "<Figure size 432x288 with 1 Axes>"
      ]
     },
     "metadata": {
      "needs_background": "light"
     },
     "output_type": "display_data"
    }
   ],
   "source": [
    "plt.plot(tSteps, observationVec)\n",
    "plt.plot(tSteps, estimatedObservationsVec)"
   ]
  },
  {
   "cell_type": "code",
   "execution_count": null,
   "id": "4d4d6756",
   "metadata": {},
   "outputs": [],
   "source": []
  },
  {
   "cell_type": "code",
   "execution_count": 104,
   "id": "5ad0b398",
   "metadata": {},
   "outputs": [
    {
     "data": {
      "text/plain": [
       "0.020833333333333332"
      ]
     },
     "execution_count": 104,
     "metadata": {},
     "output_type": "execute_result"
    }
   ],
   "source": []
  },
  {
   "cell_type": "code",
   "execution_count": 50,
   "id": "5631a895",
   "metadata": {},
   "outputs": [],
   "source": [
    "# # \n",
    "\n",
    "# it = 1\n",
    "# tTemp = tSteps[it]\n",
    "\n",
    "# tempExtendedState = np.zeros(nTotalStates)\n",
    "# tempExtendedState[0:nStates] = estimatedState[:, it - 1]\n",
    "\n",
    "# tempExtendedCov = np.zeros((len(tempExtendedState), len(tempExtendedState)))\n",
    "# tempExtendedCov[0:nStates, 0:nStates] = estimatedCov[:, :, it - 1]\n",
    "# tempExtendedCov[nStates:nStates + nStateNoise, nStates:nStates + nStateNoise] = np.diag([0.0025, 0.0025])/(20*tTemp)\n",
    "# tempExtendedCov[-1, -1] = obsNoiseCov\n",
    " \n",
    "# [sigmaPointsMat, sigmaWeightsMean,\n",
    "#      sigmaWeightsCov] = GetSigmaPoints(tempExtendedState, tempExtendedCov, alpha, beta, kappa)\n",
    "\n",
    "# nSigmaPoints = len(sigmaWeightsMean)\n",
    "# forwardedState = np.zeros((nStates, nSigmaPoints))\n",
    "# forwardedObservations = np.zeros((nObs, nSigmaPoints))\n",
    "\n",
    "# for iSigma in range(len(sigmaWeightsMean)):\n",
    "#         forwardedState[:, iSigma] = ForwardModel(sigmaPointsMat[:, iSigma])\n",
    "#         forwardedObservations[:, iSigma] = ObservationModel(forwardedState[:, iSigma], tTemp,\n",
    "#                                                             sigmaPointsMat[-1, iSigma])\n",
    "        \n",
    "# forwardedStateEstimate = GetWeightedEstimate(forwardedState, sigmaWeightsMean)\n",
    "# forwardedStateCov = GetWeightedCov(forwardedState, forwardedStateEstimate, sigmaWeightsCov)\n",
    "\n",
    "# forwardedObsEstimate = GetWeightedEstimate(forwardedObservations, sigmaWeightsMean)\n",
    "# forwardedObsCov = GetWeightedCov(forwardedObs, forwardedObsEstimate, sigmaWeightsCov)        \n",
    "\n",
    "# forwardedStateObsCrossCov = GetWeightedCrossCov(forwardedState, forwardedStateEstimate,\n",
    "#                                                 forwardedObservations, forwardedObsEstimate,\n",
    "#                                                 sigmaWeightsCov)\n",
    "\n",
    "# kalmanGain = np.dot(forwardedStateObsCrossCov, np.linalg.inv(forwardedObsCov))\n",
    "\n",
    "# estimatedState[:, it] = forwardedStateEstimate + np.dot(kalmanGain, \n",
    "#                                                         (observationVec[it] - forwardedObsEstimate))\n",
    "\n",
    "# estimatedCov[:, :, it] = forwardedStateCov - np.dot(kalmanGain,\n",
    "#                                                     np.dot(forwardedObsCov, kalmanGain.T))"
   ]
  },
  {
   "cell_type": "code",
   "execution_count": null,
   "id": "df32c735",
   "metadata": {},
   "outputs": [],
   "source": []
  },
  {
   "cell_type": "code",
   "execution_count": 76,
   "id": "4a78c769",
   "metadata": {},
   "outputs": [
    {
     "data": {
      "text/plain": [
       "[<matplotlib.lines.Line2D at 0x7fd779d2a7d0>]"
      ]
     },
     "execution_count": 76,
     "metadata": {},
     "output_type": "execute_result"
    },
    {
     "data": {
      "image/png": "[encoded data removed]",
      "text/plain": [
       "<Figure size 432x288 with 1 Axes>"
      ]
     },
     "metadata": {
      "needs_background": "light"
     },
     "output_type": "display_data"
    }
   ],
   "source": []
  },
  {
   "cell_type": "code",
   "execution_count": null,
   "id": "a857c7ed",
   "metadata": {},
   "outputs": [],
   "source": []
  },
  {
   "cell_type": "code",
   "execution_count": 17,
   "id": "ee83459e",
   "metadata": {},
   "outputs": [
    {
     "data": {
      "text/plain": [
       "2"
      ]
     },
     "execution_count": 17,
     "metadata": {},
     "output_type": "execute_result"
    }
   ],
   "source": [
    "it"
   ]
  },
  {
   "cell_type": "code",
   "execution_count": null,
   "id": "0868732f",
   "metadata": {},
   "outputs": [],
   "source": []
  },
  {
   "cell_type": "code",
   "execution_count": null,
   "id": "8fad0329",
   "metadata": {},
   "outputs": [],
   "source": []
  },
  {
   "cell_type": "code",
   "execution_count": null,
   "id": "4eed48ff",
   "metadata": {},
   "outputs": [],
   "source": []
  },
  {
   "cell_type": "code",
   "execution_count": null,
   "id": "df92fdf4",
   "metadata": {},
   "outputs": [],
   "source": []
  }
 ],
 "metadata": {
  "kernelspec": {
   "display_name": "Python 3",
   "language": "python",
   "name": "python3"
  },
  "language_info": {
   "codemirror_mode": {
    "name": "ipython",
    "version": 3
   },
   "file_extension": ".py",
   "mimetype": "text/x-python",
   "name": "python",
   "nbconvert_exporter": "python",
   "pygments_lexer": "ipython3",
   "version": "3.7.7"
  }
 },
 "nbformat": 4,
 "nbformat_minor": 5
}
